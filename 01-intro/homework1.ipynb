{
 "cells": [
  {
   "cell_type": "code",
   "execution_count": 1,
   "id": "efbfd782",
   "metadata": {},
   "outputs": [],
   "source": [
    "import pandas as pd\n",
    "from sklearn.feature_extraction import DictVectorizer\n",
    "from sklearn.linear_model import LinearRegression\n",
    "from sklearn.metrics import mean_squared_error"
   ]
  },
  {
   "cell_type": "code",
   "execution_count": 2,
   "id": "da3948d4",
   "metadata": {},
   "outputs": [],
   "source": [
    "categorical = ['PULocationID', 'DOLocationID']\n",
    "\n",
    "def read_data(filename):\n",
    "    df = pd.read_parquet(filename)\n",
    "    \n",
    "    # duration\n",
    "    df['duration'] = df.tpep_dropoff_datetime - df.tpep_pickup_datetime\n",
    "    df.duration = df.duration.apply(lambda td: td.total_seconds() / 60)\n",
    "    print('Std Dev of duration', df.describe()['duration']['std'])\n",
    "    \n",
    "    # convert to categorical\n",
    "    df[categorical] = df[categorical].astype(str)\n",
    "    \n",
    "    # outliers\n",
    "    total = len(df)\n",
    "    outliers_removed_df = df[(df.duration>=1) & (df.duration<=60)].copy()\n",
    "    no_outliers = len(outliers_removed_df)\n",
    "    print(f'Total: {total}, After removal: {no_outliers}, Left:{no_outliers/total}')\n",
    "    return outliers_removed_df"
   ]
  },
  {
   "cell_type": "code",
   "execution_count": 3,
   "id": "d32ba3e4",
   "metadata": {},
   "outputs": [
    {
     "name": "stdout",
     "output_type": "stream",
     "text": [
      "Std Dev of duration 46.44530513776499\n",
      "Total: 2463931, After removal: 2421440, Left:0.9827547930522406\n",
      "Std Dev of duration 47.26394076781901\n",
      "Total: 2979431, After removal: 2918187, Left:0.979444397269143\n"
     ]
    }
   ],
   "source": [
    "df_jan = read_data('yellow_tripdata_2022-01.parquet')\n",
    "df_feb = read_data('yellow_tripdata_2022-02.parquet')"
   ]
  },
  {
   "cell_type": "code",
   "execution_count": 4,
   "id": "d39dce47",
   "metadata": {},
   "outputs": [],
   "source": [
    "train_dicts = df_jan[categorical].to_dict(orient='records')\n",
    "dv = DictVectorizer()\n",
    "X_train = dv.fit_transform(train_dicts)\n",
    "\n",
    "target = 'duration'\n",
    "y_train = df_jan[target].values"
   ]
  },
  {
   "cell_type": "code",
   "execution_count": 5,
   "id": "5e32926f",
   "metadata": {},
   "outputs": [
    {
     "data": {
      "text/plain": [
       "(2421440, 515)"
      ]
     },
     "execution_count": 5,
     "metadata": {},
     "output_type": "execute_result"
    }
   ],
   "source": [
    "X_train.shape"
   ]
  },
  {
   "cell_type": "code",
   "execution_count": 6,
   "id": "d73810da",
   "metadata": {},
   "outputs": [
    {
     "data": {
      "text/plain": [
       "6.986190834594674"
      ]
     },
     "execution_count": 6,
     "metadata": {},
     "output_type": "execute_result"
    }
   ],
   "source": [
    "lr = LinearRegression()\n",
    "lr.fit(X_train, y_train)\n",
    "\n",
    "y_pred = lr.predict(X_train)\n",
    "\n",
    "mean_squared_error(y_train, y_pred, squared=False)"
   ]
  },
  {
   "cell_type": "code",
   "execution_count": 7,
   "id": "4da747b7",
   "metadata": {},
   "outputs": [],
   "source": [
    "val_dicts = df_feb[categorical].to_dict(orient='records')\n",
    "X_val = dv.transform(val_dicts)\n",
    "y_val = df_feb[target].values"
   ]
  },
  {
   "cell_type": "code",
   "execution_count": 8,
   "id": "3de1b002",
   "metadata": {},
   "outputs": [
    {
     "data": {
      "text/plain": [
       "7.786409124501573"
      ]
     },
     "execution_count": 8,
     "metadata": {},
     "output_type": "execute_result"
    }
   ],
   "source": [
    "y_pred = lr.predict(X_val)\n",
    "\n",
    "mean_squared_error(y_val, y_pred, squared=False)"
   ]
  }
 ],
 "metadata": {
  "kernelspec": {
   "display_name": "Python 3 (ipykernel)",
   "language": "python",
   "name": "python3"
  },
  "language_info": {
   "codemirror_mode": {
    "name": "ipython",
    "version": 3
   },
   "file_extension": ".py",
   "mimetype": "text/x-python",
   "name": "python",
   "nbconvert_exporter": "python",
   "pygments_lexer": "ipython3",
   "version": "3.8.16"
  }
 },
 "nbformat": 4,
 "nbformat_minor": 5
}
